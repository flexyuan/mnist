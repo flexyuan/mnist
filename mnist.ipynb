{
 "cells": [
  {
   "cell_type": "code",
   "execution_count": 374,
   "metadata": {},
   "outputs": [],
   "source": [
    "import numpy as np\n",
    "from PIL import Image\n",
    "import random\n"
   ]
  },
  {
   "cell_type": "code",
   "execution_count": 375,
   "metadata": {},
   "outputs": [],
   "source": [
    "def int_of_bytes(bytes):\n",
    "    return int.from_bytes(bytes, \"big\")\n",
    "\n",
    "\n",
    "def open_image(path):\n",
    "    f = open(path, \"rb\")\n",
    "    f.read(4)  # magic number\n",
    "    num_images = int_of_bytes(f.read(4))\n",
    "    rows = int_of_bytes(f.read(4))\n",
    "    columns = int_of_bytes(f.read(4))\n",
    "    f.close()\n",
    "    data = np.fromfile(path, dtype=\"uint8\")\n",
    "    data = data[16:]\n",
    "    return np.reshape(data, (num_images, rows, columns))\n",
    "\n",
    "\n",
    "def display_image(np_array):\n",
    "    im = Image.fromarray(np_array)\n",
    "    im = im.convert(\"L\")\n",
    "    display(im)\n",
    "\n",
    "\n",
    "def open_label(path):\n",
    "    f = open(path, \"rb\")\n",
    "    f.read(4)  # magic number\n",
    "    num_images = int_of_bytes(f.read(4))\n",
    "    f.close()\n",
    "    data = np.fromfile(path, dtype=\"uint8\")\n",
    "    data = data[8:]\n",
    "    return np.reshape(data, (num_images))\n"
   ]
  },
  {
   "cell_type": "code",
   "execution_count": 376,
   "metadata": {},
   "outputs": [],
   "source": [
    "images_train = open_image(\"train-images-idx3-ubyte\")\n",
    "labels_train = open_label(\"train-labels-idx1-ubyte\")\n",
    "images_test = open_image(\"t10k-images-idx3-ubyte\")\n",
    "labels_test = open_label(\"t10k-labels-idx1-ubyte\")\n"
   ]
  },
  {
   "cell_type": "code",
   "execution_count": 377,
   "metadata": {},
   "outputs": [],
   "source": [
    "def p_sigmoid(x):\n",
    "    y = sigmoid(x)\n",
    "    return y * (1 - y)\n",
    "\n",
    "\n",
    "def sigmoid(x):\n",
    "    return 1 / (1 + np.exp(-x))\n",
    "\n",
    "\n",
    "def prepare_data(images, labels):\n",
    "    return [(i.reshape(i.size, 1), label_to_vector(l)) for i, l in zip(images, labels)]\n",
    "\n",
    "\n",
    "def label_to_vector(label: int):\n",
    "    r = np.zeros((10, 1))\n",
    "    r[label][0] = 1\n",
    "    return r\n",
    "\n",
    "\n",
    "def vector_to_label(vec):\n",
    "    return np.argmax(vec)\n"
   ]
  },
  {
   "cell_type": "code",
   "execution_count": 378,
   "metadata": {},
   "outputs": [],
   "source": [
    "class Network:\n",
    "    def __init__(self, sizes):\n",
    "        self.sizes = sizes\n",
    "        self.num_layers = len(sizes)\n",
    "        self.biases = [np.random.randn(x, 1) for x in sizes[1:]]\n",
    "        self.weights = [np.random.randn(x, y) for x, y in zip(sizes[1:], sizes)]\n",
    "\n",
    "    def sdg(self, training_data, epochs, mini_batch_size, eta, test_data=None):\n",
    "        n = len(training_data)\n",
    "        for i in range(epochs):\n",
    "            random.shuffle(training_data)\n",
    "            mini_batches = [\n",
    "                training_data[x : x + mini_batch_size]\n",
    "                for x in range(0, n, mini_batch_size)\n",
    "            ]\n",
    "            for mini_batch in mini_batches:\n",
    "                self.update_mini_batch(mini_batch, eta)\n",
    "            if test_data:\n",
    "                print(f\"Epoch {i}: {self.evaluate(test_data)} / {len(test_data)}\")\n",
    "            else:\n",
    "                print(f\"Epoch {i} complete\")\n",
    "\n",
    "    def update_mini_batch(self, mini_batch, eta):\n",
    "        nabla_b = [np.zeros(b.shape) for b in self.biases]\n",
    "        nabla_w = [np.zeros(w.shape) for w in self.weights]\n",
    "        for x, y in mini_batch:\n",
    "            delta_nabla_b, delta_nabla_w = self.backprop(x, y)\n",
    "            nabla_b = [nb + dnb for nb, dnb in zip(nabla_b, delta_nabla_b)]\n",
    "            nabla_w = [nw + dnw for nw, dnw in zip(nabla_w, delta_nabla_w)]\n",
    "        self.biases = [\n",
    "            b - (eta / len(mini_batch)) * nb for b, nb in zip(self.biases, nabla_b)\n",
    "        ]\n",
    "        self.weights = [\n",
    "            w - (eta / len(mini_batch)) * nw for w, nw in zip(self.weights, nabla_w)\n",
    "        ]\n",
    "\n",
    "    def backprop(self, x, y):\n",
    "        zs = []\n",
    "        activations = [x]\n",
    "        activation = x\n",
    "        nabla_b = [np.zeros(b.shape) for b in self.biases]\n",
    "        nabla_w = [np.zeros(w.shape) for w in self.weights]\n",
    "        for w, b in zip(self.weights, self.biases):\n",
    "            z = np.dot(w, activation) + b\n",
    "            activation = sigmoid(z)\n",
    "            zs.append(z)\n",
    "            activations.append(activation)\n",
    "        delta = (activations[-1] - y) * p_sigmoid(zs[-1])\n",
    "        nabla_b[-1] = delta\n",
    "        nabla_w[-1] = delta @ activations[-2].transpose()\n",
    "\n",
    "        for i in range(2, self.num_layers):\n",
    "            delta = (\n",
    "                self.weights[-i + 1].transpose() @ delta\n",
    "            ) * p_sigmoid(zs[-i])\n",
    "            nabla_b[-i] = delta\n",
    "            nabla_w[-i] = delta @ activations[-i - 1].transpose()\n",
    "        return nabla_b, nabla_w\n",
    "\n",
    "    def evaluate(self, test_data):\n",
    "        test_results = [(np.argmax(self.feedforward(x)), y) for (x, y) in test_data]\n",
    "        return sum(int(x == vector_to_label(y)) for (x, y) in test_results)\n",
    "\n",
    "    def feedforward(self, inp):\n",
    "        for b, w in zip(self.biases, self.weights):\n",
    "            inp = sigmoid(np.dot(w, inp) + b)\n",
    "        return inp\n"
   ]
  },
  {
   "cell_type": "code",
   "execution_count": 379,
   "metadata": {},
   "outputs": [],
   "source": [
    "network = Network([784, 200, 80, 10])\n",
    "\n",
    "\n",
    "def main():\n",
    "    training_data = prepare_data(images_train, labels_train)\n",
    "    test_data = prepare_data(images_test, labels_test)\n",
    "    network.sdg(training_data, 30, 20, 0.5, test_data=test_data)\n"
   ]
  },
  {
   "cell_type": "code",
   "execution_count": 380,
   "metadata": {},
   "outputs": [
    {
     "name": "stderr",
     "output_type": "stream",
     "text": [
      "/var/folders/k8/c8_zkt093fv9l1wmmxjpjt100000gn/T/ipykernel_48999/4275333500.py:7: RuntimeWarning: overflow encountered in exp\n",
      "  return 1 / (1 + np.exp(-x))\n"
     ]
    },
    {
     "name": "stdout",
     "output_type": "stream",
     "text": [
      "Epoch 0: 4738 / 10000\n",
      "Epoch 1: 6836 / 10000\n",
      "Epoch 2: 7513 / 10000\n",
      "Epoch 3: 7722 / 10000\n",
      "Epoch 4: 7920 / 10000\n",
      "Epoch 5: 7859 / 10000\n",
      "Epoch 6: 7598 / 10000\n",
      "Epoch 7: 7972 / 10000\n",
      "Epoch 8: 7933 / 10000\n",
      "Epoch 9: 7807 / 10000\n",
      "Epoch 10: 7812 / 10000\n",
      "Epoch 11: 7817 / 10000\n",
      "Epoch 12: 8145 / 10000\n",
      "Epoch 13: 8141 / 10000\n",
      "Epoch 14: 8011 / 10000\n",
      "Epoch 15: 8000 / 10000\n",
      "Epoch 16: 8054 / 10000\n",
      "Epoch 17: 8098 / 10000\n",
      "Epoch 18: 8303 / 10000\n",
      "Epoch 19: 8106 / 10000\n",
      "Epoch 20: 8269 / 10000\n",
      "Epoch 21: 8190 / 10000\n",
      "Epoch 22: 8284 / 10000\n",
      "Epoch 23: 7982 / 10000\n",
      "Epoch 24: 8091 / 10000\n",
      "Epoch 25: 8215 / 10000\n",
      "Epoch 26: 8344 / 10000\n",
      "Epoch 27: 8123 / 10000\n",
      "Epoch 28: 8197 / 10000\n",
      "Epoch 29: 8093 / 10000\n"
     ]
    }
   ],
   "source": [
    "main()\n"
   ]
  },
  {
   "cell_type": "code",
   "execution_count": 381,
   "metadata": {},
   "outputs": [],
   "source": [
    "def predict_label(image):\n",
    "    vl = network.feedforward(image.reshape(image.size, 1))\n",
    "    return vector_to_label(vl)\n"
   ]
  },
  {
   "cell_type": "code",
   "execution_count": 383,
   "metadata": {},
   "outputs": [
    {
     "data": {
      "image/png": "[encoded data removed]",
      "text/plain": [
       "<PIL.Image.Image image mode=L size=28x28>"
      ]
     },
     "metadata": {},
     "output_type": "display_data"
    }
   ],
   "source": [
    "display_image(images_test[1022])"
   ]
  },
  {
   "cell_type": "code",
   "execution_count": 384,
   "metadata": {},
   "outputs": [
    {
     "name": "stderr",
     "output_type": "stream",
     "text": [
      "/var/folders/k8/c8_zkt093fv9l1wmmxjpjt100000gn/T/ipykernel_48999/4275333500.py:7: RuntimeWarning: overflow encountered in exp\n",
      "  return 1 / (1 + np.exp(-x))\n"
     ]
    },
    {
     "data": {
      "text/plain": [
       "5"
      ]
     },
     "execution_count": 384,
     "metadata": {},
     "output_type": "execute_result"
    }
   ],
   "source": [
    "predict_label(images_test[1022])"
   ]
  },
  {
   "cell_type": "code",
   "execution_count": 385,
   "metadata": {},
   "outputs": [
    {
     "name": "stderr",
     "output_type": "stream",
     "text": [
      "/var/folders/k8/c8_zkt093fv9l1wmmxjpjt100000gn/T/ipykernel_48999/4275333500.py:7: RuntimeWarning: overflow encountered in exp\n",
      "  return 1 / (1 + np.exp(-x))\n"
     ]
    },
    {
     "data": {
      "text/plain": [
       "8093"
      ]
     },
     "execution_count": 385,
     "metadata": {},
     "output_type": "execute_result"
    }
   ],
   "source": [
    "network.evaluate(test_data=prepare_data(images_test, labels_test))"
   ]
  }
 ],
 "metadata": {
  "kernelspec": {
   "display_name": "Python 3 (ipykernel)",
   "language": "python",
   "name": "python3"
  },
  "language_info": {
   "codemirror_mode": {
    "name": "ipython",
    "version": 3
   },
   "file_extension": ".py",
   "mimetype": "text/x-python",
   "name": "python",
   "nbconvert_exporter": "python",
   "pygments_lexer": "ipython3",
   "version": "3.10.9"
  },
  "vscode": {
   "interpreter": {
    "hash": "a9f38182188ad91dcf9787eaa0e80266da3d25b4c979d77c1090d44526167bba"
   }
  }
 },
 "nbformat": 4,
 "nbformat_minor": 2
}
