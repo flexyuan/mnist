{
 "cells": [
  {
   "cell_type": "code",
   "execution_count": 80,
   "metadata": {},
   "outputs": [],
   "source": [
    "import numpy as np\n",
    "from PIL import Image\n",
    "import random\n",
    "np.random.seed(12)\n",
    "random.seed(12)"
   ]
  },
  {
   "cell_type": "code",
   "execution_count": 81,
   "metadata": {},
   "outputs": [],
   "source": [
    "def int_of_bytes(bytes):\n",
    "    return int.from_bytes(bytes, \"big\")\n",
    "\n",
    "\n",
    "def open_image(path):\n",
    "    f = open(path, \"rb\")\n",
    "    f.read(4)  # magic number\n",
    "    num_images = int_of_bytes(f.read(4))\n",
    "    rows = int_of_bytes(f.read(4))\n",
    "    columns = int_of_bytes(f.read(4))\n",
    "    f.close()\n",
    "    data = np.fromfile(path, dtype=\"uint8\")\n",
    "    data = data[16:]\n",
    "    return np.reshape(data, (num_images, rows, columns))\n",
    "\n",
    "\n",
    "def display_image(np_array):\n",
    "    im = Image.fromarray(np_array)\n",
    "    im = im.convert(\"L\")\n",
    "    display(im)\n",
    "\n",
    "\n",
    "def open_label(path):\n",
    "    f = open(path, \"rb\")\n",
    "    f.read(4)  # magic number\n",
    "    num_images = int_of_bytes(f.read(4))\n",
    "    f.close()\n",
    "    data = np.fromfile(path, dtype=\"uint8\")\n",
    "    data = data[8:]\n",
    "    return np.reshape(data, (num_images))\n"
   ]
  },
  {
   "cell_type": "code",
   "execution_count": 82,
   "metadata": {},
   "outputs": [],
   "source": [
    "images_train = open_image(\"train-images-idx3-ubyte\")\n",
    "labels_train = open_label(\"train-labels-idx1-ubyte\")\n",
    "images_test = open_image(\"t10k-images-idx3-ubyte\")\n",
    "labels_test = open_label(\"t10k-labels-idx1-ubyte\")"
   ]
  },
  {
   "cell_type": "code",
   "execution_count": 83,
   "metadata": {},
   "outputs": [],
   "source": [
    "def p_sigmoid(x):\n",
    "    y = sigmoid(x)\n",
    "    return y * (1 - y)\n",
    "\n",
    "\n",
    "def sigmoid(x):\n",
    "    return 1 / (1 + np.exp(-x))\n",
    "\n",
    "\n",
    "def prepare_data(images, labels):\n",
    "    return [(i.reshape(i.size, 1), label_to_vector(l)) for i, l in zip(images, labels)]\n",
    "\n",
    "\n",
    "def label_to_vector(label: int):\n",
    "    r = np.zeros((10, 1))\n",
    "    r[label][0] = 1\n",
    "    return r\n",
    "\n",
    "\n",
    "def vector_to_label(vec):\n",
    "    return np.argmax(vec)\n",
    "\n"
   ]
  },
  {
   "cell_type": "code",
   "execution_count": 84,
   "metadata": {},
   "outputs": [],
   "source": [
    "class Network:\n",
    "    def __init__(self, sizes):\n",
    "        self.sizes = sizes\n",
    "        self.num_layers = len(sizes)\n",
    "        self.biases = [np.random.randn(x, 1) for x in sizes[1:]]\n",
    "        self.weights = [np.random.randn(x, y) for x, y in zip(sizes[1:], sizes)]\n",
    "\n",
    "    def sdg(self, training_data, epochs, mini_batch_size, eta, test_data):\n",
    "        n = len(training_data)\n",
    "        for i in range(epochs):\n",
    "            random.shuffle(training_data)\n",
    "            mini_batches = [\n",
    "                training_data[x : x + mini_batch_size]\n",
    "                for x in range(0, n, mini_batch_size)\n",
    "            ]\n",
    "            for mini_batch in mini_batches:\n",
    "                self.update_mini_batch(mini_batch, eta)\n",
    "            if test_data:\n",
    "                print(f\"Epoch {i}: {self.evaluate(test_data)} / {len(test_data)}\")\n",
    "            else:\n",
    "                print(f\"Epoch {i} complete\")\n",
    "\n",
    "    def update_mini_batch(self, mini_batch, eta):\n",
    "        nabla_b = [np.zeros(b.shape) for b in self.biases]\n",
    "        nabla_w = [np.zeros(w.shape) for w in self.weights]\n",
    "        for x, y in mini_batch:\n",
    "            delta_nabla_b, delta_nabla_w = self.backprop(x, y)\n",
    "            nabla_b = [nb + dnb for nb, dnb in zip(nabla_b, delta_nabla_b)]\n",
    "            nabla_w = [nw + dnw for nw, dnw in zip(nabla_w, delta_nabla_w)]\n",
    "        self.biases = [\n",
    "            b - (eta / len(mini_batch)) * nb for b, nb in zip(self.biases, nabla_b)\n",
    "        ]\n",
    "        self.weights = [\n",
    "            w - (eta / len(mini_batch)) * nw for w, nw in zip(self.weights, nabla_w)\n",
    "        ]\n",
    "\n",
    "    def backprop(self, x, y):\n",
    "        zs = []\n",
    "        activations = [x]\n",
    "        activation = x\n",
    "        nabla_b = [np.zeros(b.shape) for b in self.biases]\n",
    "        nabla_w = [np.zeros(w.shape) for w in self.weights]\n",
    "        for w, b in zip(self.weights, self.biases):\n",
    "            z = np.dot(w, activation) + b\n",
    "            activation = sigmoid(z)\n",
    "            zs.append(z)\n",
    "            activations.append(activation)\n",
    "        output_error = (activations[-1] - y) * p_sigmoid(z[-1])\n",
    "        nabla_b[-1] = output_error\n",
    "        nabla_w[-1] = output_error @ activations[-2].transpose()\n",
    "\n",
    "        for i in range(2, self.num_layers):\n",
    "            output_error = (\n",
    "                self.weights[-i + 1].transpose() @ output_error\n",
    "            ) * p_sigmoid(z[-i])\n",
    "            nabla_b[-i] = output_error\n",
    "            nabla_w[-i] = output_error @ activations[-i - 1].transpose()\n",
    "        return nabla_b, nabla_w\n",
    "\n",
    "    def evaluate(self, test_data):\n",
    "        test_results = [(np.argmax(self.feedforward(x)), y) for (x, y) in test_data]\n",
    "        return sum(int(x == vector_to_label(y)) for (x, y) in test_results)\n",
    "\n",
    "    def feedforward(self, inp):\n",
    "        for b, w in zip(self.biases, self.weights):\n",
    "            inp = sigmoid(np.dot(w, inp) + b)\n",
    "        return inp\n"
   ]
  },
  {
   "cell_type": "code",
   "execution_count": 85,
   "metadata": {},
   "outputs": [],
   "source": [
    "network = Network([784, 30, 10])\n",
    "def main():\n",
    "    training_data = prepare_data(images_train, labels_train)\n",
    "    test_data = prepare_data(images_test, labels_test)\n",
    "    network.sdg(training_data, 30, 10, 3.0, training_data)\n"
   ]
  },
  {
   "cell_type": "code",
   "execution_count": 86,
   "metadata": {},
   "outputs": [
    {
     "name": "stderr",
     "output_type": "stream",
     "text": [
      "/var/folders/k8/c8_zkt093fv9l1wmmxjpjt100000gn/T/ipykernel_46487/363644159.py:7: RuntimeWarning: overflow encountered in exp\n",
      "  return 1 / (1 + np.exp(-x))\n"
     ]
    },
    {
     "name": "stdout",
     "output_type": "stream",
     "text": [
      "Epoch 0: 38712 / 60000\n"
     ]
    },
    {
     "ename": "KeyboardInterrupt",
     "evalue": "",
     "output_type": "error",
     "traceback": [
      "\u001b[0;31m---------------------------------------------------------------------------\u001b[0m",
      "\u001b[0;31mKeyboardInterrupt\u001b[0m                         Traceback (most recent call last)",
      "Cell \u001b[0;32mIn[86], line 1\u001b[0m\n\u001b[0;32m----> 1\u001b[0m main()\n",
      "Cell \u001b[0;32mIn[85], line 5\u001b[0m, in \u001b[0;36mmain\u001b[0;34m()\u001b[0m\n\u001b[1;32m      3\u001b[0m training_data \u001b[39m=\u001b[39m prepare_data(images_train, labels_train)\n\u001b[1;32m      4\u001b[0m test_data \u001b[39m=\u001b[39m prepare_data(images_test, labels_test)\n\u001b[0;32m----> 5\u001b[0m network\u001b[39m.\u001b[39;49msdg(training_data, \u001b[39m30\u001b[39;49m, \u001b[39m10\u001b[39;49m, \u001b[39m3.0\u001b[39;49m, training_data)\n",
      "Cell \u001b[0;32mIn[84], line 17\u001b[0m, in \u001b[0;36mNetwork.sdg\u001b[0;34m(self, training_data, epochs, mini_batch_size, eta, test_data)\u001b[0m\n\u001b[1;32m     12\u001b[0m mini_batches \u001b[39m=\u001b[39m [\n\u001b[1;32m     13\u001b[0m     training_data[x : x \u001b[39m+\u001b[39m mini_batch_size]\n\u001b[1;32m     14\u001b[0m     \u001b[39mfor\u001b[39;00m x \u001b[39min\u001b[39;00m \u001b[39mrange\u001b[39m(\u001b[39m0\u001b[39m, n, mini_batch_size)\n\u001b[1;32m     15\u001b[0m ]\n\u001b[1;32m     16\u001b[0m \u001b[39mfor\u001b[39;00m mini_batch \u001b[39min\u001b[39;00m mini_batches:\n\u001b[0;32m---> 17\u001b[0m     \u001b[39mself\u001b[39;49m\u001b[39m.\u001b[39;49mupdate_mini_batch(mini_batch, eta)\n\u001b[1;32m     18\u001b[0m \u001b[39mif\u001b[39;00m test_data:\n\u001b[1;32m     19\u001b[0m     \u001b[39mprint\u001b[39m(\u001b[39mf\u001b[39m\u001b[39m\"\u001b[39m\u001b[39mEpoch \u001b[39m\u001b[39m{\u001b[39;00mi\u001b[39m}\u001b[39;00m\u001b[39m: \u001b[39m\u001b[39m{\u001b[39;00m\u001b[39mself\u001b[39m\u001b[39m.\u001b[39mevaluate(test_data)\u001b[39m}\u001b[39;00m\u001b[39m / \u001b[39m\u001b[39m{\u001b[39;00m\u001b[39mlen\u001b[39m(test_data)\u001b[39m}\u001b[39;00m\u001b[39m\"\u001b[39m)\n",
      "Cell \u001b[0;32mIn[84], line 27\u001b[0m, in \u001b[0;36mNetwork.update_mini_batch\u001b[0;34m(self, mini_batch, eta)\u001b[0m\n\u001b[1;32m     25\u001b[0m nabla_w \u001b[39m=\u001b[39m [np\u001b[39m.\u001b[39mzeros(w\u001b[39m.\u001b[39mshape) \u001b[39mfor\u001b[39;00m w \u001b[39min\u001b[39;00m \u001b[39mself\u001b[39m\u001b[39m.\u001b[39mweights]\n\u001b[1;32m     26\u001b[0m \u001b[39mfor\u001b[39;00m x, y \u001b[39min\u001b[39;00m mini_batch:\n\u001b[0;32m---> 27\u001b[0m     delta_nabla_b, delta_nabla_w \u001b[39m=\u001b[39m \u001b[39mself\u001b[39;49m\u001b[39m.\u001b[39;49mbackprop(x, y)\n\u001b[1;32m     28\u001b[0m     nabla_b \u001b[39m=\u001b[39m [nb \u001b[39m+\u001b[39m dnb \u001b[39mfor\u001b[39;00m nb, dnb \u001b[39min\u001b[39;00m \u001b[39mzip\u001b[39m(nabla_b, delta_nabla_b)]\n\u001b[1;32m     29\u001b[0m     nabla_w \u001b[39m=\u001b[39m [nw \u001b[39m+\u001b[39m dnw \u001b[39mfor\u001b[39;00m nw, dnw \u001b[39min\u001b[39;00m \u001b[39mzip\u001b[39m(nabla_w, delta_nabla_w)]\n",
      "Cell \u001b[0;32mIn[84], line 44\u001b[0m, in \u001b[0;36mNetwork.backprop\u001b[0;34m(self, x, y)\u001b[0m\n\u001b[1;32m     42\u001b[0m delta_nabla_w \u001b[39m=\u001b[39m [np\u001b[39m.\u001b[39mzeros(w\u001b[39m.\u001b[39mshape) \u001b[39mfor\u001b[39;00m w \u001b[39min\u001b[39;00m \u001b[39mself\u001b[39m\u001b[39m.\u001b[39mweights]\n\u001b[1;32m     43\u001b[0m \u001b[39mfor\u001b[39;00m w, b \u001b[39min\u001b[39;00m \u001b[39mzip\u001b[39m(\u001b[39mself\u001b[39m\u001b[39m.\u001b[39mweights, \u001b[39mself\u001b[39m\u001b[39m.\u001b[39mbiases):\n\u001b[0;32m---> 44\u001b[0m     z \u001b[39m=\u001b[39m np\u001b[39m.\u001b[39;49mdot(w, activation) \u001b[39m+\u001b[39m b\n\u001b[1;32m     45\u001b[0m     activation \u001b[39m=\u001b[39m sigmoid(z)\n\u001b[1;32m     46\u001b[0m     zs\u001b[39m.\u001b[39mappend(z)\n",
      "File \u001b[0;32m<__array_function__ internals>:200\u001b[0m, in \u001b[0;36mdot\u001b[0;34m(*args, **kwargs)\u001b[0m\n",
      "\u001b[0;31mKeyboardInterrupt\u001b[0m: "
     ]
    }
   ],
   "source": [
    "main()"
   ]
  },
  {
   "cell_type": "code",
   "execution_count": null,
   "metadata": {},
   "outputs": [],
   "source": [
    "def predict_label(image):\n",
    "    vl = network.feedforward(image.reshape(image.size, 1))\n",
    "    return vector_to_label(vl)"
   ]
  },
  {
   "cell_type": "code",
   "execution_count": null,
   "metadata": {},
   "outputs": [
    {
     "data": {
      "image/png": "[encoded data removed]",
      "text/plain": [
       "<PIL.Image.Image image mode=L size=28x28>"
      ]
     },
     "metadata": {},
     "output_type": "display_data"
    }
   ],
   "source": [
    "display_image(images_test[0])"
   ]
  }
 ],
 "metadata": {
  "kernelspec": {
   "display_name": "Python 3 (ipykernel)",
   "language": "python",
   "name": "python3"
  },
  "language_info": {
   "codemirror_mode": {
    "name": "ipython",
    "version": 3
   },
   "file_extension": ".py",
   "mimetype": "text/x-python",
   "name": "python",
   "nbconvert_exporter": "python",
   "pygments_lexer": "ipython3",
   "version": "3.10.9"
  },
  "vscode": {
   "interpreter": {
    "hash": "a9f38182188ad91dcf9787eaa0e80266da3d25b4c979d77c1090d44526167bba"
   }
  }
 },
 "nbformat": 4,
 "nbformat_minor": 2
}
