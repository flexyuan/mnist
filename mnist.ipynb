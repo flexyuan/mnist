{
 "cells": [
  {
   "cell_type": "code",
   "execution_count": 1,
   "metadata": {},
   "outputs": [],
   "source": [
    "import numpy as np\n",
    "from PIL import Image\n",
    "import random\n",
    "np.random.seed(12)\n",
    "random.seed(12)"
   ]
  },
  {
   "cell_type": "code",
   "execution_count": 2,
   "metadata": {},
   "outputs": [],
   "source": [
    "def int_of_bytes(bytes):\n",
    "    return int.from_bytes(bytes, \"big\")\n",
    "\n",
    "\n",
    "def open_image(path):\n",
    "    f = open(path, \"rb\")\n",
    "    f.read(4)  # magic number\n",
    "    num_images = int_of_bytes(f.read(4))\n",
    "    rows = int_of_bytes(f.read(4))\n",
    "    columns = int_of_bytes(f.read(4))\n",
    "    f.close()\n",
    "    data = np.fromfile(path, dtype=\"uint8\")\n",
    "    data = data[16:]\n",
    "    return np.reshape(data, (num_images, rows, columns))\n",
    "\n",
    "\n",
    "def display_image(np_array):\n",
    "    im = Image.fromarray(np_array)\n",
    "    im = im.convert(\"L\")\n",
    "    display(im)\n",
    "\n",
    "\n",
    "def open_label(path):\n",
    "    f = open(path, \"rb\")\n",
    "    f.read(4)  # magic number\n",
    "    num_images = int_of_bytes(f.read(4))\n",
    "    f.close()\n",
    "    data = np.fromfile(path, dtype=\"uint8\")\n",
    "    data = data[8:]\n",
    "    return np.reshape(data, (num_images))\n"
   ]
  },
  {
   "cell_type": "code",
   "execution_count": 3,
   "metadata": {},
   "outputs": [],
   "source": [
    "images_train = open_image(\"train-images-idx3-ubyte\")\n",
    "labels_train = open_label(\"train-labels-idx1-ubyte\")\n",
    "images_test = open_image(\"t10k-images-idx3-ubyte\")\n",
    "labels_test = open_label(\"t10k-labels-idx1-ubyte\")"
   ]
  },
  {
   "cell_type": "code",
   "execution_count": 4,
   "metadata": {},
   "outputs": [],
   "source": [
    "def p_sigmoid(x):\n",
    "    y = sigmoid(x)\n",
    "    return y * (1 - y)\n",
    "\n",
    "\n",
    "def sigmoid(x):\n",
    "    return 1 / (1 + np.exp(-x))\n",
    "\n",
    "\n",
    "def prepare_data(images, labels):\n",
    "    return [(i.reshape(i.size, 1), label_to_vector(l)) for i, l in zip(images, labels)]\n",
    "\n",
    "\n",
    "def label_to_vector(label: int):\n",
    "    r = np.zeros((10, 1))\n",
    "    r[label][0] = 1\n",
    "    return r\n",
    "\n",
    "\n",
    "def vector_to_label(vec):\n",
    "    return np.argmax(vec)\n",
    "\n"
   ]
  },
  {
   "cell_type": "code",
   "execution_count": 5,
   "metadata": {},
   "outputs": [],
   "source": [
    "class Network:\n",
    "    def __init__(self, sizes):\n",
    "        self.sizes = sizes\n",
    "        self.num_layers = len(sizes)\n",
    "        self.biases = [np.random.randn(x, 1) for x in sizes[1:]]\n",
    "        self.weights = [np.random.randn(x, y) for x, y in zip(sizes[1:], sizes)]\n",
    "\n",
    "    def sdg(self, training_data, epochs, mini_batch_size, eta, test_data):\n",
    "        n = len(training_data)\n",
    "        for i in range(epochs):\n",
    "            random.shuffle(training_data)\n",
    "            mini_batches = [training_data[x:x + mini_batch_size] for x in range(0, n, mini_batch_size)]\n",
    "            for mini_batch in mini_batches:\n",
    "                self.update_mini_batch(mini_batch, eta)\n",
    "            if test_data:\n",
    "                print(f'Epoch {i}: {self.evaluate(test_data)} / {len(test_data)}')\n",
    "            else:\n",
    "                print(f'Epoch {i} complete')\n",
    "\n",
    "    def update_mini_batch(self, mini_batch, eta):\n",
    "        nabla_b = [np.zeros(b.shape) for b in self.biases]\n",
    "        nabla_w = [np.zeros(w.shape) for w in self.weights]\n",
    "        for x, y in mini_batch:\n",
    "            delta_nabla_b, delta_nabla_w = self.backprop(x, y)\n",
    "            nabla_b = [nb + dnb for nb, dnb in zip(nabla_b, delta_nabla_b)]\n",
    "            nabla_w = [nw + dnw for nw, dnw in zip(nabla_w, delta_nabla_w)]\n",
    "        self.biases = [b - (eta / len(mini_batch)) * nb for b, nb in zip(self.biases, nabla_b)]\n",
    "        self.weights = [w - (eta / len(mini_batch)) * nw for w, nw in zip(self.weights, nabla_w)]\n",
    "\n",
    "    def backprop(self, x, y):\n",
    "        zs = []\n",
    "        acs = [x]\n",
    "        a = x\n",
    "        delta_nabla_b = [np.zeros(b.shape) for b in self.biases]\n",
    "        delta_nabla_w = [np.zeros(w.shape) for w in self.weights]\n",
    "        z = None\n",
    "        for w, b in zip(self.weights, self.biases):\n",
    "            z = np.dot(w, a) + b\n",
    "            a = sigmoid(z)\n",
    "            zs.append(z)\n",
    "            acs.append(a)\n",
    "        output_error = (acs[-1] - y) * p_sigmoid(z[-1])\n",
    "        delta_nabla_b[-1] = output_error\n",
    "        delta_nabla_w[-1] = output_error @ acs[-2].transpose()\n",
    "\n",
    "        for i in range(2, self.num_layers):\n",
    "            output_error = (self.weights[-i + 1].transpose() @ output_error) * p_sigmoid(z[-i])\n",
    "            delta_nabla_b[-i] = output_error\n",
    "            delta_nabla_w[-i] = output_error @ acs[- i - 1].transpose()\n",
    "        return delta_nabla_b, delta_nabla_w\n",
    "\n",
    "    def evaluate(self, test_data):\n",
    "        test_results = [(np.argmax(self.feedforward(x)), y)\n",
    "                        for (x, y) in test_data]\n",
    "        return sum(int(x == vector_to_label(y)) for (x, y) in test_results)\n",
    "\n",
    "    def feedforward(self, inp):\n",
    "        for b, w in zip(self.biases, self.weights):\n",
    "            inp = sigmoid(np.dot(w, inp) + b)\n",
    "        return inp\n"
   ]
  },
  {
   "cell_type": "code",
   "execution_count": 6,
   "metadata": {},
   "outputs": [],
   "source": [
    "network = Network([784, 30, 10])\n",
    "def main():\n",
    "    training_data = prepare_data(images_train, labels_train)\n",
    "    test_data = prepare_data(images_test, labels_test)\n",
    "    network.sdg(training_data, 30, 20, 3.0, training_data)\n"
   ]
  },
  {
   "cell_type": "code",
   "execution_count": 7,
   "metadata": {},
   "outputs": [
    {
     "name": "stderr",
     "output_type": "stream",
     "text": [
      "/var/folders/k8/c8_zkt093fv9l1wmmxjpjt100000gn/T/ipykernel_41628/363644159.py:7: RuntimeWarning: overflow encountered in exp\n",
      "  return 1 / (1 + np.exp(-x))\n"
     ]
    },
    {
     "name": "stdout",
     "output_type": "stream",
     "text": [
      "Epoch 0: 35743 / 60000\n",
      "Epoch 1: 34597 / 60000\n",
      "Epoch 2: 30398 / 60000\n",
      "Epoch 3: 33484 / 60000\n",
      "Epoch 4: 36418 / 60000\n",
      "Epoch 5: 36009 / 60000\n",
      "Epoch 6: 29607 / 60000\n",
      "Epoch 7: 30412 / 60000\n",
      "Epoch 8: 33967 / 60000\n",
      "Epoch 9: 34610 / 60000\n",
      "Epoch 10: 34122 / 60000\n",
      "Epoch 11: 33782 / 60000\n",
      "Epoch 12: 31691 / 60000\n",
      "Epoch 13: 31876 / 60000\n",
      "Epoch 14: 31400 / 60000\n",
      "Epoch 15: 30104 / 60000\n",
      "Epoch 16: 30388 / 60000\n",
      "Epoch 17: 33233 / 60000\n",
      "Epoch 18: 30304 / 60000\n",
      "Epoch 19: 31173 / 60000\n",
      "Epoch 20: 34832 / 60000\n",
      "Epoch 21: 35949 / 60000\n",
      "Epoch 22: 37589 / 60000\n",
      "Epoch 23: 40271 / 60000\n",
      "Epoch 24: 39571 / 60000\n",
      "Epoch 25: 40481 / 60000\n",
      "Epoch 26: 39643 / 60000\n",
      "Epoch 27: 40950 / 60000\n",
      "Epoch 28: 39829 / 60000\n",
      "Epoch 29: 40290 / 60000\n"
     ]
    }
   ],
   "source": [
    "main()"
   ]
  },
  {
   "cell_type": "code",
   "execution_count": 8,
   "metadata": {},
   "outputs": [],
   "source": [
    "def predict_label(image):\n",
    "    vl = network.feedforward(image.reshape(image.size, 1))\n",
    "    return vector_to_label(vl)"
   ]
  },
  {
   "cell_type": "code",
   "execution_count": 9,
   "metadata": {},
   "outputs": [
    {
     "data": {
      "image/png": "[encoded data removed]",
      "text/plain": [
       "<PIL.Image.Image image mode=L size=28x28>"
      ]
     },
     "metadata": {},
     "output_type": "display_data"
    }
   ],
   "source": [
    "display_image(images_test[0])"
   ]
  }
 ],
 "metadata": {
  "kernelspec": {
   "display_name": "Python 3 (ipykernel)",
   "language": "python",
   "name": "python3"
  },
  "language_info": {
   "codemirror_mode": {
    "name": "ipython",
    "version": 3
   },
   "file_extension": ".py",
   "mimetype": "text/x-python",
   "name": "python",
   "nbconvert_exporter": "python",
   "pygments_lexer": "ipython3",
   "version": "3.10.9"
  },
  "vscode": {
   "interpreter": {
    "hash": "a9f38182188ad91dcf9787eaa0e80266da3d25b4c979d77c1090d44526167bba"
   }
  }
 },
 "nbformat": 4,
 "nbformat_minor": 2
}
