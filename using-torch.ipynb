{
 "cells": [
  {
   "cell_type": "code",
   "execution_count": 1,
   "id": "4fd7470d",
   "metadata": {},
   "outputs": [],
   "source": [
    "import numpy as np\n",
    "from PIL import Image\n",
    "import random\n",
    "import torch\n",
    "import matplotlib.pyplot as plt\n",
    "import torch.nn.functional as F"
   ]
  },
  {
   "cell_type": "code",
   "execution_count": 2,
   "id": "c6e40192",
   "metadata": {},
   "outputs": [],
   "source": [
    "def int_of_bytes(bytes):\n",
    "    return int.from_bytes(bytes, \"big\")\n",
    "\n",
    "\n",
    "def open_image(path):\n",
    "    f = open(path, \"rb\")\n",
    "    f.read(4)  # magic number\n",
    "    num_images = int_of_bytes(f.read(4))\n",
    "    rows = int_of_bytes(f.read(4))\n",
    "    columns = int_of_bytes(f.read(4))\n",
    "    f.close()\n",
    "    data = np.fromfile(path, dtype=\"uint8\")\n",
    "    data = data[16:]\n",
    "    return np.reshape(data, (num_images, rows, columns))\n",
    "\n",
    "\n",
    "def display_image(np_array):\n",
    "    im = Image.fromarray(np_array)\n",
    "    im = im.convert(\"L\")\n",
    "    display(im)\n",
    "\n",
    "\n",
    "def open_label(path):\n",
    "    f = open(path, \"rb\")\n",
    "    f.read(4)  # magic number\n",
    "    num_images = int_of_bytes(f.read(4))\n",
    "    f.close()\n",
    "    data = np.fromfile(path, dtype=\"uint8\")\n",
    "    data = data[8:]\n",
    "    return np.reshape(data, (num_images))\n"
   ]
  },
  {
   "cell_type": "code",
   "execution_count": 3,
   "id": "b64ebdf4",
   "metadata": {},
   "outputs": [],
   "source": [
    "images_train = open_image(\"train-images-idx3-ubyte\")\n",
    "labels_train = open_label(\"train-labels-idx1-ubyte\")\n",
    "images_test = open_image(\"t10k-images-idx3-ubyte\")\n",
    "labels_test = open_label(\"t10k-labels-idx1-ubyte\")\n"
   ]
  },
  {
   "cell_type": "code",
   "execution_count": 4,
   "id": "89cef7cd",
   "metadata": {},
   "outputs": [],
   "source": [
    "hidden_size = 200\n",
    "\n",
    "g = torch.Generator().manual_seed(2147483647)\n",
    "W1 = torch.randn((784, hidden_size), generator=g) * 0.1\n",
    "b1 = torch.randn(hidden_size, generator=g) * 0.1\n",
    "W2 = torch.randn((hidden_size, 10), generator=g) * 0.1\n",
    "b2 = torch.randn(10, generator=g) * 0.1"
   ]
  },
  {
   "cell_type": "code",
   "execution_count": 5,
   "id": "cdc5c30e",
   "metadata": {},
   "outputs": [],
   "source": [
    "parameters = [W1, b1, W2, b2]\n",
    "for p in parameters:\n",
    "    p.requires_grad = True"
   ]
  },
  {
   "cell_type": "code",
   "execution_count": 6,
   "id": "0263f73a",
   "metadata": {},
   "outputs": [],
   "source": [
    "num_train = len(images_train)\n",
    "\n",
    "xTrain, yTrain = torch.from_numpy(images_train).view((num_train, -1)).float(), torch.from_numpy(labels_train)\n",
    "yTrain = F.one_hot(yTrain.to(torch.int64))"
   ]
  },
  {
   "cell_type": "code",
   "execution_count": 7,
   "id": "d2c60592",
   "metadata": {},
   "outputs": [
    {
     "data": {
      "text/plain": [
       "torch.Size([784])"
      ]
     },
     "execution_count": 7,
     "metadata": {},
     "output_type": "execute_result"
    }
   ],
   "source": [
    "x = xTrain[0]\n",
    "y = yTrain[0]\n",
    "x.shape"
   ]
  },
  {
   "cell_type": "code",
   "execution_count": 8,
   "id": "1f196697",
   "metadata": {},
   "outputs": [
    {
     "data": {
      "text/plain": [
       "tensor(0.1805, grad_fn=<DivBackward0>)"
      ]
     },
     "execution_count": 8,
     "metadata": {},
     "output_type": "execute_result"
    }
   ],
   "source": [
    "h = (x @ W1 + b1).sigmoid()\n",
    "ypredict = (h @ W2 + b2).sigmoid()\n",
    "e1 = ypredict - y\n",
    "loss = (e1*e1).mean()/2\n",
    "loss"
   ]
  },
  {
   "cell_type": "code",
   "execution_count": 9,
   "id": "3050f7f7",
   "metadata": {},
   "outputs": [
    {
     "name": "stdout",
     "output_type": "stream",
     "text": [
      "0.2926088869571686\n",
      "0.05402306839823723\n",
      "0.021857889369130135\n",
      "0.011928318068385124\n",
      "0.011884871870279312\n",
      "0.010624482296407223\n",
      "0.00790864322334528\n",
      "0.005835279356688261\n",
      "0.006550537887960672\n",
      "0.006806498859077692\n"
     ]
    }
   ],
   "source": [
    "batch_size = 32\n",
    "\n",
    "g = torch.Generator().manual_seed(2147483647)\n",
    "for i in range(100000):\n",
    "    ix = torch.randint(0, xTrain.shape[0], (batch_size,), generator=g)\n",
    "    xBatch, yBatch = xTrain[ix], yTrain[ix]\n",
    "    # forward pass\n",
    "    h = (xBatch @ W1 + b1).sigmoid()\n",
    "    ypredict = (h @ W2 + b2).sigmoid()\n",
    "    e1 = ypredict - yBatch\n",
    "    loss = (e1*e1).mean()\n",
    "    # backward pass\n",
    "    for p in parameters:\n",
    "        p.grad = None\n",
    "    loss.backward()\n",
    "    lr = 0.1 if i > 10000 else 0.01\n",
    "    for p in parameters:\n",
    "        p.data += -lr * p.grad\n",
    "    if i % 10000 == 0:\n",
    "        print(loss.item())\n",
    "    "
   ]
  },
  {
   "cell_type": "code",
   "execution_count": 12,
   "id": "dce7ec6e",
   "metadata": {},
   "outputs": [
    {
     "data": {
      "text/plain": [
       "tensor(0.0030, grad_fn=<DivBackward0>)"
      ]
     },
     "execution_count": 12,
     "metadata": {},
     "output_type": "execute_result"
    }
   ],
   "source": [
    "g = torch.Generator().manual_seed(2147483647)\n",
    "ix = torch.randint(0, xTrain.shape[0], (batch_size,), generator=g)\n",
    "h = (xBatch @ W1 + b1).sigmoid()\n",
    "ypredict = (h @ W2 + b2).sigmoid()\n",
    "e1 = ypredict - yBatch\n",
    "loss = (e1*e1).mean()/2\n",
    "loss"
   ]
  },
  {
   "cell_type": "code",
   "execution_count": 13,
   "id": "c8defb60",
   "metadata": {},
   "outputs": [
    {
     "data": {
      "text/plain": [
       "torch.Size([32, 10])"
      ]
     },
     "execution_count": 13,
     "metadata": {},
     "output_type": "execute_result"
    }
   ],
   "source": [
    "yBatch.shape"
   ]
  },
  {
   "cell_type": "code",
   "execution_count": 14,
   "id": "141cedeb",
   "metadata": {},
   "outputs": [
    {
     "name": "stdout",
     "output_type": "stream",
     "text": [
      "Accuracy = 9513/10000\n"
     ]
    }
   ],
   "source": [
    "num_test = len(images_test)\n",
    "\n",
    "xTrain, yTest = torch.from_numpy(images_test).view((num_test, -1)).float(), torch.from_numpy(labels_test)\n",
    "total = len(yTest)\n",
    "correct = 0\n",
    "for x, y in zip(xTrain, yTest):\n",
    "    h = (x @ W1 + b1).sigmoid()\n",
    "    ypredict = (h @ W2 + b2).sigmoid()\n",
    "    argmax = torch.argmax(ypredict)\n",
    "    if argmax == y.item():\n",
    "        correct += 1\n",
    "print(f\"Accuracy = {correct}/{total}\")"
   ]
  },
  {
   "cell_type": "code",
   "execution_count": null,
   "id": "fc0fa24d",
   "metadata": {},
   "outputs": [],
   "source": []
  }
 ],
 "metadata": {
  "kernelspec": {
   "display_name": "Python 3 (ipykernel)",
   "language": "python",
   "name": "python3"
  },
  "language_info": {
   "codemirror_mode": {
    "name": "ipython",
    "version": 3
   },
   "file_extension": ".py",
   "mimetype": "text/x-python",
   "name": "python",
   "nbconvert_exporter": "python",
   "pygments_lexer": "ipython3",
   "version": "3.11.0"
  }
 },
 "nbformat": 4,
 "nbformat_minor": 5
}
